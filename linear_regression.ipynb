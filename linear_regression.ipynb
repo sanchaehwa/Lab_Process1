{
 "cells": [
  {
   "cell_type": "markdown",
   "id": "4307ac09-c506-40cc-9f17-181e4a10aff9",
   "metadata": {},
   "source": [
    "<h1>버스</h1>"
   ]
  },
  {
   "cell_type": "code",
   "execution_count": 44,
   "id": "6d9e750f-c085-4c6f-b893-4eb3fbc06cf7",
   "metadata": {},
   "outputs": [],
   "source": [
    "from sklearn.linear_model import LinearRegression\n",
    "from sklearn.metrics import mean_squared_error\n",
    "import math\n",
    "import pandas as pd\n",
    "import numpy as np\n",
    "import matplotlib.pyplot as plt\n",
    "from sklearn.model_selection import train_test_split\n",
    "\n",
    "path = '/Users/hwayeong/Desktop/'"
   ]
  },
  {
   "cell_type": "code",
   "execution_count": 47,
   "id": "96342e30-0573-4edc-8590-a1099cbd85dd",
   "metadata": {},
   "outputs": [
    {
     "name": "stdout",
     "output_type": "stream",
     "text": [
      "m_1\n",
      "m_2\n",
      "m_3\n",
      "m_4\n",
      "m_5\n",
      "m_6\n",
      "m_7\n",
      "m_8\n",
      "m_9\n",
      "m_10\n"
     ]
    }
   ],
   "source": [
    "df_list = []\n",
    "for i in range(0,10):\n",
    "    s_name = 'm_'+str(i+1)\n",
    "    print(s_name)\n",
    "    df_list.append(pd.read_excel(path + 'rssi_dataset.xlsx', engine='openpyxl', sheet_name=s_name))\n",
    "df_list = []\n"
   ]
  },
  {
   "cell_type": "code",
   "execution_count": 55,
   "id": "6db1e5aa",
   "metadata": {},
   "outputs": [
    {
     "ename": "IndexError",
     "evalue": "list index out of range",
     "output_type": "error",
     "traceback": [
      "\u001b[0;31m---------------------------------------------------------------------------\u001b[0m",
      "\u001b[0;31mIndexError\u001b[0m                                Traceback (most recent call last)",
      "Cell \u001b[0;32mIn[55], line 1\u001b[0m\n\u001b[0;32m----> 1\u001b[0m df_list[\u001b[39m0\u001b[39;49m]\u001b[39m.\u001b[39mhead()\n",
      "\u001b[0;31mIndexError\u001b[0m: list index out of range"
     ]
    }
   ],
   "source": [
    "df_list[0].head()"
   ]
  },
  {
   "cell_type": "code",
   "execution_count": null,
   "id": "31a92dc3-749e-45d7-8198-e91dea5d755c",
   "metadata": {},
   "outputs": [],
   "source": [
    "log_d = -0.02878307 * df_list[0]['rssi'] - 1.5813873130922256\n",
    "df_list[0]['dist'] = log_d\n",
    "print(log_d)"
   ]
  },
  {
   "cell_type": "code",
   "execution_count": null,
   "id": "af8923c3-df2f-4d73-81f9-6f7ec186629e",
   "metadata": {},
   "outputs": [],
   "source": [
    "for i in range(0,10):    \n",
    "    df_list[i]['dist'] = i+1\n",
    "    \n",
    "    log_d = math.log10(i+1)\n",
    "    df_list[i]['log_d'] = log_d                                                         #실제 거리에 로그값을 취함\n",
    "    \n",
    "    d = 10**((df_list[i]['txpower'] - df_list[i]['rssi'])/(10 * 2))                     #RSSI 이상적인 거리추정 모델\n",
    "    df_list[i]['d'] = d\n",
    "    \n",
    "    new_log_d = (df_list[i]['txpower'] - df_list[i]['rssi'])/(10 * 2)                   #new log d = (Txpower * rssi / 10 * 2)\n",
    "    df_list[i]['new_log_d'] = new_log_d\n",
    "    \n",
    "    legacy_d = 0.89976 * (df_list[i]['rssi']/df_list[i]['txpower'])**(7.7095) + 0.111   #ibeacon 오픈소스에서 사용하는 수학모델 | 이상적인 환경만을 고려\n",
    "    df_list[i]['ibeacon_d'] = legacy_d\n",
    "        \n",
    "    proposed_d = 10**(-0.02885017 * df_list[i]['rssi'] - 1.58662651)                    #new_log_d 에서 로그를 제거 \n",
    "    df_list[i]['proposed_d'] = proposed_d\n",
    "    \n",
    "    df_list[i].to_excel(excel_writer='C:/Users/qaz10/Desktop/Kwon Hyeokdon/강의자료/연구실/엠투텍/M2TECH/study/'+'user_beacon_dataset_'+str(i+1)+'m.xlsx')\n",
    "       \n",
    "df_list[0].head()"
   ]
  },
  {
   "cell_type": "code",
   "execution_count": null,
   "id": "0cf45716",
   "metadata": {},
   "outputs": [],
   "source": [
    "print(df_list)"
   ]
  },
  {
   "cell_type": "code",
   "execution_count": null,
   "id": "274f12ed-9c04-4e75-bf45-6843fab7f800",
   "metadata": {},
   "outputs": [],
   "source": [
    "t = pd.DataFrame(df_list[0][0:22589])\n",
    "t_rssi = pd.DataFrame(df_list[0]['rssi'][0:22589])\n",
    "t_log_d = pd.DataFrame(df_list[0]['log_d'][0:22589])\n",
    "t_dist = pd.DataFrame(df_list[0]['dist'][0:22589])\n",
    "t_d = pd.DataFrame(df_list[0]['d'][0:22589])\n",
    "t_legacy_d = pd.DataFrame(df_list[0]['ibeacon_d'][0:22589])\n",
    "t_proposed_d = pd.DataFrame(df_list[0]['proposed_d'][0:22589])\n",
    "for i in range(1,10):\n",
    "    t_rssi = pd.concat([pd.DataFrame(t_rssi), pd.DataFrame(df_list[i]['rssi'][0:22589])], axis=0, ignore_index=True) #axisi = 0 위 아래 합침\n",
    "    t_log_d = pd.concat([pd.DataFrame(t_log_d), pd.DataFrame(df_list[i]['log_d'][0:22589])], axis=0, ignore_index=True)\n",
    "    t_dist = pd.concat([pd.DataFrame(t_dist), pd.DataFrame(df_list[i]['dist'][0:22589])], axis=0, ignore_index=True)\n",
    "    t_d = pd.concat([pd.DataFrame(t_d), pd.DataFrame(df_list[i]['d'][0:22589])], axis=0, ignore_index=True)\n",
    "    t_legacy_d = pd.concat([pd.DataFrame(t_legacy_d), pd.DataFrame(df_list[i]['ibeacon_d'][0:22589])], axis=0, ignore_index=True)\n",
    "    t_proposed_d = pd.concat([pd.DataFrame(t_proposed_d), pd.DataFrame(df_list[i]['proposed_d'][0:22589])], axis=0, ignore_index=True)\n",
    "\n",
    "print(t_log_d)\n",
    "# print(t_rssi)\n",
    "# print(t_dist)"
   ]
  },
  {
   "cell_type": "code",
   "execution_count": null,
   "id": "916035ae",
   "metadata": {},
   "outputs": [],
   "source": [
    "print(t.shape)\n"
   ]
  },
  {
   "cell_type": "code",
   "execution_count": null,
   "id": "8d97819f-b739-459c-82af-cc62c4f3e163",
   "metadata": {},
   "outputs": [],
   "source": [
    "# plt.plot(t_rssi, t_dist.values.reshape(-1,1), 'k.') # 데이터 차원 변형\n",
    "# plt.title('RSSI-Distance Graph')\n",
    "# plt.xlabel('RSSI')\n",
    "# plt.ylabel('Distance (m)')\n",
    "# # plt.axis([-120,0,0,11])\n",
    "# plt.grid(True)\n",
    "# plt.show()"
   ]
  },
  {
   "cell_type": "code",
   "execution_count": null,
   "id": "3cc646bd-05ad-46bd-91e5-637995353d23",
   "metadata": {},
   "outputs": [],
   "source": [
    "plt.plot(t_rssi.values, t_d.values.reshape(-1,1), 'k.') #x축 rssi y축 t_d\n",
    "plt.title('RSSI-d Graph')\n",
    "plt.xlabel('RSSI')\n",
    "plt.ylabel('d (m)')\n",
    "# plt.axis([-120,0,0,11])\n",
    "plt.grid(True)\n",
    "plt.show()"
   ]
  },
  {
   "cell_type": "code",
   "execution_count": null,
   "id": "45b1051d-67cd-4f53-826e-b4c340782738",
   "metadata": {},
   "outputs": [],
   "source": [
    "# test_size : 테스트 데이터 셋의 비율 | 갯수\n",
    "# train size : 학습 데이터 셋의 비율 | 갯수\n",
    "# random_state : 데이터 분할시 셔플이 이루어지는데 이를 위한 시드값\n",
    "\n",
    "X_train, X_test, y_train, y_test = train_test_split(t_rssi, t_log_d, train_size=0.9, random_state=42)\n",
    "\n",
    "\n",
    "#X_train1, X_test1, y_train1, y_test1 = train_test_split(t_rssi, t_dist, train_size=0.9, random_state=42) #rssi - distance model\n",
    "\n",
    "print(len(X_train),len(X_test))\n",
    "\n",
    "# print(X_test)\n",
    "# print(y_test)\n",
    "\n",
    "print(X_train.shape)\n",
    "print(y_train.shape)\n",
    "print(X_test.shape)\n",
    "print(y_test.shape)\n",
    "print(y_train.shape)"
   ]
  },
  {
   "cell_type": "code",
   "execution_count": null,
   "id": "4eeab70a-ea44-4d61-96c4-853ce013c5b3",
   "metadata": {},
   "outputs": [],
   "source": [
    "model = LinearRegression()\n",
    "model.fit(X_train, y_train)             # 훈련모델 fit\n",
    "\n",
    "y_pred = model.predict(X_test)          # x 값을 넣어 y값을 예측 할수 있다.\n",
    "\n",
    "print('기울기 : ',model.coef_,'절편 : ',model.intercept_)\n",
    "\n",
    "accuracy = model.score(X_test, y_test)  # 모형 성능 평가\n",
    "print(accuracy) \n",
    "\n",
    "\n"
   ]
  },
  {
   "cell_type": "code",
   "execution_count": null,
   "id": "5d9f09ec",
   "metadata": {},
   "outputs": [],
   "source": [
    "# model = LinearRegression()\n",
    "# model.fit(X_train1, y_train1)             # 훈련모델 fit\n",
    "\n",
    "# y_pred1 = model.predict(X_test1)          # x 값을 넣어 y값을 예측 할수 있다.\n",
    "\n",
    "# print('기울기 : ',model.coef_,'절편 : ',model.intercept_)\n",
    "\n",
    "# accuracy = model.score(X_test, y_test)  # 모형 성능 평가\n",
    "# print(accuracy)                           #rssi - distance model"
   ]
  },
  {
   "cell_type": "code",
   "execution_count": null,
   "id": "668dead6",
   "metadata": {},
   "outputs": [],
   "source": [
    "plt.plot(t_rssi.values, t_dist.values, 'k.')\n",
    "#plt.plot(X_test1.values, y_pred1, 'r-')\n",
    "plt.title('RSSI-dist Graph')\n",
    "plt.xlabel('RSSI')\n",
    "plt.ylabel('dist')\n",
    "#plt.axis([-120,0,0,11])\n",
    "plt.grid(True)\n",
    "#plt.savefig('./fig1.png')\n",
    "plt.show()"
   ]
  },
  {
   "cell_type": "code",
   "execution_count": null,
   "id": "4f8cd68d-4f77-4f3d-955d-7acda4d9da6b",
   "metadata": {},
   "outputs": [],
   "source": [
    "plt.plot(t_rssi.values, t_log_d.values, 'k.')\n",
    "plt.plot(X_test.values, y_pred, 'r-')\n",
    "plt.title('RSSI-log(d) Graph')\n",
    "plt.xlabel('RSSI')\n",
    "plt.ylabel('log(d)')\n",
    "#plt.axis([-120,0,0,11])\n",
    "plt.grid(True)\n",
    "plt.savefig('./fig1.png')\n",
    "plt.show()\n"
   ]
  },
  {
   "cell_type": "code",
   "execution_count": null,
   "id": "84e0c2b2-0527-451d-be5d-500cc4b1329e",
   "metadata": {},
   "outputs": [],
   "source": [
    "legacy_train,legacy_test = train_test_split(t_legacy_d,train_size=0.9, random_state=42)\n",
    "proposed_train,proposed_test = train_test_split(t_proposed_d,train_size=0.9, random_state=42)   #log d 에서 log를 상쇄한 값 t_proposed_d\n",
    "y_test_true, y_true = train_test_split(t_dist, train_size=0.9, random_state=42)                 #오차추정 데이터 , 실제 거리 (추정거리x)\n",
    "\n",
    "proposed_RMSE = np.sqrt(mean_squared_error(proposed_test, y_true))                              #rmse 제곱근 편차 y는 distance test set\n",
    "legacy_RMSE =np.sqrt(mean_squared_error(legacy_test, y_true))                                   #train set으로 훈련 test set으로 측정?\n",
    "\n",
    "\n",
    "print(\"Proposed Model RMSE:\",proposed_RMSE)\n",
    "print(\"Legacy Model RMSE:\",legacy_RMSE)\n",
    "\n",
    "\n",
    "# proposed_RMSE = np.sqrt(mean_squared_error(y_true, y_pred))\n",
    "# print(\"Proposed Model RMSE:\",proposed_RMSE)\n",
    "\n",
    "# legacy_RMSE =np.sqrt(mean_squared_error(t_dist, t_legacy_d))\n",
    "# print(\"Legacy Model RMSE:\",legacy_RMSE)\n",
    "\n",
    "print('향상도:',(legacy_RMSE-proposed_RMSE)/legacy_RMSE)                                        #증감률"
   ]
  },
  {
   "cell_type": "code",
   "execution_count": null,
   "id": "fe49238e",
   "metadata": {},
   "outputs": [],
   "source": [
    "plt.plot(t_rssi.values, t_proposed_d.values, 'k.')\n",
    "plt.plot(t_rssi.values, t_legacy_d.values, 'b.')\n",
    "\n",
    "plt.title('RSSI-Distance Graph')\n",
    "plt.xlabel('RSSI')\n",
    "\n",
    "plt.ylabel('Distance')\n",
    "plt.legend(['Proposed','iBeacon'])\n",
    "plt.grid(True)\n",
    "plt.show()"
   ]
  },
  {
   "cell_type": "code",
   "execution_count": null,
   "id": "08750fe9-06d2-409f-8b68-2fdbb7854676",
   "metadata": {},
   "outputs": [],
   "source": [
    "plt.plot(t_rssi.values, t_proposed_d.values, 'k.')\n",
    "plt.plot(t_rssi.values, t_legacy_d.values, 'b.')\n",
    "#plt.plot(t_rssi.values, t_dist.values, 'r.')\n",
    "\n",
    "plt.title('RSSI-Distance Graph')\n",
    "plt.xlabel('RSSI')\n",
    "plt.ylabel('Distance')\n",
    "plt.legend(['Proposed','iBeacon'])\n",
    "plt.grid(True)\n",
    "plt.savefig('./fig3.png')\n",
    "plt.show()"
   ]
  },
  {
   "cell_type": "code",
   "execution_count": null,
   "id": "70d57489-be95-4596-bdf5-e018b071da2d",
   "metadata": {},
   "outputs": [],
   "source": [
    "# ub_df = pd.read_excel('./user_beacon_dataset_1m.xlsx', engine='openpyxl')\n",
    "# ub_df = ub_df[0:22589] \n"
   ]
  },
  {
   "cell_type": "code",
   "execution_count": null,
   "id": "0526e82e-0831-423b-ae0c-7d26cf435441",
   "metadata": {},
   "outputs": [],
   "source": [
    "# ub_df.head()\n",
    "# print(ub_df['proposed_d'][0])\n",
    "\n",
    "# for i in range(len(ub_df)):\n",
    "#     if (ub_df['proposed_d'][i]) < 1:\n",
    "#         print('하차')"
   ]
  },
  {
   "cell_type": "code",
   "execution_count": null,
   "id": "1a99ab33-a121-46a5-b2c0-3853e06c008f",
   "metadata": {},
   "outputs": [],
   "source": [
    "# BLE tag receiver 및 BLE tag 간 거리 추정 오차 (거리 추정 정확도)\n",
    "# 버스 \n",
    "\n",
    "actual_dist = [1,2,3,4,5,6,7,8,9,10] #실제 거리\n",
    "LR_est_dist = [2.09,3.16,2.87,3.37,4.52,5.60,5.68,9.53,8.02,9.27] # 추정거리의 평균\n",
    "iB_est_dist = [2.37,4.46,3.81,4.94,7.69,10.45,10.68,21.46,17.12,20.67]\n",
    " \n",
    "LR_RMSE = [1.29,1.24,0.28,0.89,1.04,0.86,5.82,2.48,1.93,1.51]  # 실제 거리 기준 오차 값\n",
    "iB_RMSE = [1.91,2.64,0.97,1.77,3.56,4.89,15.98,14.62,9.36,11.36]\n",
    "\n",
    "plt.plot(actual_dist,LR_est_dist)\n",
    "plt.plot(actual_dist,iB_est_dist)\n",
    "plt.plot(actual_dist,actual_dist)\n",
    "plt.title('Actual-Estimated distance Graph')\n",
    "plt.xlabel('Actual distance')\n",
    "plt.ylabel('Estimated distance')\n",
    "plt.xlim((1,10))\n",
    "plt.legend(['Proposed','iBeacon','Actual'])\n",
    "plt.grid(True)\n",
    "plt.show()\n",
    "\n",
    "\n"
   ]
  },
  {
   "cell_type": "code",
   "execution_count": null,
   "id": "87b6760c-93f0-4029-bc21-b85eca153c63",
   "metadata": {},
   "outputs": [],
   "source": [
    "plt.plot(actual_dist,LR_RMSE)\n",
    "plt.plot(actual_dist,iB_RMSE)\n",
    "# plt.plot(actual_dist,actual_dist)\n",
    "plt.title('RMSE Graph')\n",
    "plt.xlabel('Actual distance')\n",
    "plt.ylabel('RMSE')\n",
    "plt.xlim((1,10))\n",
    "plt.legend(['Proposed','iBeacon','Actual'])\n",
    "plt.grid(True)\n",
    "plt.show()"
   ]
  }
 ],
 "metadata": {
  "kernelspec": {
   "display_name": "Python 3.9.12 64-bit",
   "language": "python",
   "name": "python3"
  },
  "language_info": {
   "codemirror_mode": {
    "name": "ipython",
    "version": 3
   },
   "file_extension": ".py",
   "mimetype": "text/x-python",
   "name": "python",
   "nbconvert_exporter": "python",
   "pygments_lexer": "ipython3",
   "version": "3.11.3"
  },
  "vscode": {
   "interpreter": {
    "hash": "2dd75c8597737d2fbd17bf1a8f70e80eaa0e7f77f4105790a88cc20b0e3fbe10"
   }
  }
 },
 "nbformat": 4,
 "nbformat_minor": 5
}
